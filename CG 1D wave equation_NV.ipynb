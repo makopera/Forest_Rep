{
 "cells": [
  {
   "cell_type": "code",
   "execution_count": 1,
   "metadata": {},
   "outputs": [],
   "source": [
    "import matplotlib.pyplot as plt\n",
    "import numpy as np\n",
    "import math\n",
    "from sympy import *"
   ]
  },
  {
   "cell_type": "code",
   "execution_count": 2,
   "metadata": {},
   "outputs": [],
   "source": [
    "# user defined parameters\n",
    "u = 2\n",
    "Tf = 2  # final time\n",
    "ax = -1; bx = 1\n",
    "sigma = 1/8\n",
    "#qinit = lambda x: np.exp(-(x/(2*sigma))**2)\n",
    "qinit = lambda x : np.sin(2*np.pi*x)\n",
    "\n",
    "# function f(q(x,t)) = u*q(x,t)\n",
    "\n",
    "fe = lambda q: u*q\n"
   ]
  },
  {
   "cell_type": "code",
   "execution_count": 3,
   "metadata": {},
   "outputs": [],
   "source": [
    "N = 2  # order of the legendre polynomial\n",
    "Q = 3\n",
    "Ne = 100\n",
    "Np = N*Ne + 1\n",
    "a = 0.1  # CFL number"
   ]
  },
  {
   "cell_type": "code",
   "execution_count": 4,
   "metadata": {},
   "outputs": [],
   "source": [
    "def Lobatto_deriv(Q, x):\n",
    "    F = [] # array containing the polynomials\n",
    "    dF = []\n",
    "    ddF = []\n",
    "\n",
    "\n",
    "    f0 = 1; F.append(f0)  # first polynomial\n",
    "    df0 = 0; dF.append(df0)\n",
    "    f1 = x; F.append(f1)  # second polynomial\n",
    "    df1 = 1; dF.append(df1)\n",
    "    ddF = [0,0]\n",
    "\n",
    "    B = []\n",
    "    dB = []\n",
    "\n",
    "\n",
    "    for i in range(2, Q+1):\n",
    "        fi = ((2*i-1)/i)*x*F[i-1] - ((i-1)/i)*F[i-2]  # iteration of the polynomials\n",
    "        dfi = i*F[i-1] + x*dF[i-1]                    # first derivative\n",
    "        F.append(fi)\n",
    "        dF.append(dfi)\n",
    "        ddfi = (i+1.0)*dF[i-1] + x*ddF[i-1]           # second derivative\n",
    "        ddF.append(ddfi)\n",
    "\n",
    "        bi = (1.0-x**2)*dF[i-1]                       # lobatto polynomial\n",
    "        dbi = -2.0*x*dF[i-1] + (1.0-x**2)*ddF[i-1]    # derivative of lobatto polynomial\n",
    "        B.append(bi)\n",
    "        dB.append(dbi)\n",
    "        \n",
    "    return B[-1], dB[-1]"
   ]
  },
  {
   "cell_type": "code",
   "execution_count": 5,
   "metadata": {},
   "outputs": [],
   "source": [
    "def Legendre_deriv(Q, x):\n",
    "    L = [] # array containing the polynomials\n",
    "    dL = []\n",
    "\n",
    "\n",
    "    f0 = 1; L.append(f0)  # first polynomial\n",
    "    df0 = 0; dL.append(df0)\n",
    "    f1 = x; L.append(f1)  # second polynomial\n",
    "    df1 = 1; dL.append(df1)\n",
    "    \n",
    "\n",
    "    for i in range(2, Q+1):\n",
    "        fi = ((2*i-1)/i)*x*L[i-1] - ((i-1)/i)*L[i-2]  # iteration of the polynomials\n",
    "        dfi = i*L[i-1] + x*dL[i-1]\n",
    "        L.append(fi)\n",
    "        dL.append(dfi)\n",
    "        \n",
    "    return L[-1], dL[-1]"
   ]
  },
  {
   "cell_type": "code",
   "execution_count": 6,
   "metadata": {},
   "outputs": [],
   "source": [
    "def Lobatto_p(Q):\n",
    "    X = []  # Array that contains legendre points\n",
    "    K = 100  # Order of approximation of Newton method\n",
    "    e = 10**(-20) #error\n",
    "    for i in range(0, Q+1):\n",
    "        xi0 = math.cos(((2*i+1)/(2*Q+2))*np.pi)   # Chebchev points\n",
    "        \n",
    "\n",
    "        xik = xi0\n",
    "\n",
    "        for k in range(0, K):\n",
    "            out1, out2 = Lobatto_deriv(Q+1, xik)\n",
    "            xikk = xik - out1/out2   # approximation of the solution using Newton\n",
    "\n",
    "            if abs(xikk-xik) < e:\n",
    "\n",
    "                break\n",
    "\n",
    "            xik = xikk\n",
    "\n",
    "        X.append(xikk)\n",
    "    return X"
   ]
  },
  {
   "cell_type": "code",
   "execution_count": 7,
   "metadata": {},
   "outputs": [],
   "source": [
    "def LagrangeBasis(N, i, xl, Xr):\n",
    "    \n",
    "    L = 1\n",
    "    dL = 0\n",
    "        \n",
    "    for j in range(N+1):\n",
    "            \n",
    "        prod = 1\n",
    "        \n",
    "        if (j != i):\n",
    "            L = L*(xl-Xr[j])/(Xr[i]-Xr[j])\n",
    "                \n",
    "            for k in range(N+1):\n",
    "                if (k!=i  and k!=j):\n",
    "                    prod = prod*(xl-Xr[k])/(Xr[i]-Xr[k])\n",
    "        \n",
    "            dL = dL+prod/(Xr[i]-Xr[j])\n",
    "    return L, dL"
   ]
  },
  {
   "cell_type": "markdown",
   "metadata": {},
   "source": [
    "## Array intma"
   ]
  },
  {
   "cell_type": "code",
   "execution_count": 8,
   "metadata": {},
   "outputs": [],
   "source": [
    "def intma(e, N):\n",
    "    t = (e-1)*N\n",
    "    r = N*e\n",
    "    intmm = []\n",
    "    for s in range(t, r+1):\n",
    "        intmm.append(s)\n",
    "    \n",
    "    return np.array(intmm)\n"
   ]
  },
  {
   "cell_type": "markdown",
   "metadata": {},
   "source": [
    "## Weight values"
   ]
  },
  {
   "cell_type": "code",
   "execution_count": 9,
   "metadata": {},
   "outputs": [],
   "source": [
    "#funtion that compute weight values based on quadrature rule\n",
    "def weight(Q):\n",
    "    xi = Lobatto_p(Q)\n",
    "    w = np.zeros(Q+1)\n",
    "    for i in range(Q+1):\n",
    "        out1, out2 = Legendre_deriv(Q, xi[i])\n",
    "        w[i] = 2/(Q*(Q+1)*(out1)**2)\n",
    "        \n",
    "    return w \n",
    "#weight(Q)"
   ]
  },
  {
   "cell_type": "markdown",
   "metadata": {},
   "source": [
    "## Element mass matrix"
   ]
  },
  {
   "cell_type": "code",
   "execution_count": 10,
   "metadata": {},
   "outputs": [],
   "source": [
    "Me = np.zeros((N+1, N+1))       # initialisation of the matrix\n",
    "Xr = Lobatto_p(N)               # roots\n",
    "Xi = Lobatto_p(Q)               # Lobatto points\n",
    "w = weight(Q)                   # weight values\n",
    "\n",
    "for i in range(N+1):\n",
    "    \n",
    "    for j in range(N+1):\n",
    "        for k in range(Q+1):\n",
    "            xi, a1 = LagrangeBasis(N, i, Xi[k], Xr)\n",
    "            xj, a2 = LagrangeBasis(N, j, Xi[k], Xr)\n",
    "            Me[i,j] = Me[i,j]+ w[k]*xi*xj\n",
    "\n",
    "           \n",
    "        \n",
    "Me = (1/2)*Me\n",
    "         \n",
    "Me = Matrix(Me)\n",
    "#Me"
   ]
  },
  {
   "cell_type": "markdown",
   "metadata": {},
   "source": [
    "## Global mass matrix"
   ]
  },
  {
   "cell_type": "code",
   "execution_count": 11,
   "metadata": {},
   "outputs": [],
   "source": [
    "def GMM(Me, intma):\n",
    "    \n",
    "    M = np.zeros((Np, Np))\n",
    "    \n",
    "    for e in range(1,Ne+1):\n",
    "        for j in range(N+1):\n",
    "            \n",
    "            J = intma(e, N)[j]\n",
    "            \n",
    "            for i in range(N+1):\n",
    "                \n",
    "                I = intma(e, N)[i]\n",
    "                \n",
    "                M[I,J] = M[I,J] + ((bx-ax)/Ne)*Me[i,j]\n",
    "    return M\n",
    "MM = GMM(Me, intma)\n"
   ]
  },
  {
   "cell_type": "markdown",
   "metadata": {},
   "source": [
    "## Differential element matrix"
   ]
  },
  {
   "cell_type": "code",
   "execution_count": 12,
   "metadata": {},
   "outputs": [],
   "source": [
    "De = np.zeros((N+1, N+1))\n",
    "Xi = Lobatto_p(N)\n",
    "w = weight(N)\n",
    "\n",
    "for i in range(N+1):\n",
    "    \n",
    "    for j in range(N+1):\n",
    "        for k in range(N+1):\n",
    "            xi, a1 = LagrangeBasis(N, i, Xi[k], Xi)\n",
    "            a2, xj = LagrangeBasis(N, j, Xi[k], Xi)\n",
    "            De[i,j] = De[i,j]- w[k]*xi*xj\n",
    "\n",
    "#De"
   ]
  },
  {
   "cell_type": "code",
   "execution_count": null,
   "metadata": {},
   "outputs": [],
   "source": []
  },
  {
   "cell_type": "markdown",
   "metadata": {},
   "source": [
    "# Function for that compute residual global vector"
   ]
  },
  {
   "cell_type": "code",
   "execution_count": 13,
   "metadata": {},
   "outputs": [],
   "source": [
    "# function that compute global residual vector\n",
    "\n",
    "def Resi(q, Miv):\n",
    "    \n",
    "    fe = lambda q: u*q\n",
    "    \n",
    "    R = np.zeros(Np)                 # global residual vector\n",
    "    \n",
    "    for e in range(1, Ne+1):         # element loop\n",
    "\n",
    "        # discretizing into element \n",
    "\n",
    "        Ie  = intma(e, N)\n",
    "        \n",
    "        # discretizing into element \n",
    "        \n",
    "        qe = q[Ie]\n",
    "               \n",
    "        # residual for each element\n",
    "\n",
    "        Re = np.zeros(N+1)\n",
    "\n",
    "        for i in range(N+1):\n",
    "        \n",
    "            Re[i] = - np.dot(De[i],fe(qe))\n",
    "            \n",
    "            # compuataion of global residual vector\n",
    "\n",
    "            I = Ie[i] #intma(e,N)[i]            \n",
    "\n",
    "            R[I] = R[I] + Re[i]\n",
    "    \n",
    "    # reinitialisation of the global residual vector using inverse mass matrix\n",
    "    \n",
    "    GR = np.zeros(Np) \n",
    "    \n",
    "    for I in range(Np):\n",
    "        \n",
    "        GR[I] = np.dot(Miv[I],R)\n",
    "        \n",
    "    return GR"
   ]
  },
  {
   "cell_type": "code",
   "execution_count": 14,
   "metadata": {},
   "outputs": [
    {
     "name": "stdout",
     "output_type": "stream",
     "text": [
      "M =  4000\n"
     ]
    }
   ],
   "source": [
    "# spatial stuff\n",
    "\n",
    "x = np.linspace(-1, 1, Np)\n",
    "\n",
    "q0 = qinit(x)         # defined initial condition\n",
    "dx = (bx-ax)/(Np-1)   # for second order\n",
    "\n",
    "#time stuff\n",
    "\n",
    "dtest = a*dx/np.abs(u)\n",
    "M = Tf//dtest+1\n",
    "M = int(M)\n",
    "t = np.linspace(0, Tf, M+1)\n",
    "dt = Tf/M\n",
    "\n",
    "print('M = ',M)\n",
    "\n",
    "# array that contains the solutions\n",
    "q = {}\n",
    "\n",
    "# Boundary conditions\n",
    "\n",
    "q0[0] = qinit(ax) \n",
    "q0[-1] = qinit(bx) \n",
    "\n",
    "q[0] = q0     \n",
    "\n",
    "#inverse of global mass matrix\n",
    "\n",
    "Miv = np.linalg.inv(MM)     \n",
    "\n",
    "# computation of the solution of 1D wave equation\n",
    "\n",
    "for n in range(M):                   # time loop\n",
    "    \n",
    "    GR1 = Resi(q[n], Miv)\n",
    "        \n",
    "    # soultion for the wave equation at time n+1\n",
    "    \n",
    "    qh = q[n] + (dt/2)*GR1\n",
    "    \n",
    "    GR2 = Resi(qh, Miv)\n",
    "    \n",
    "    q[n+1] = q[n] + dt*GR2 \n",
    "    \n",
    "    q[n+1][0] = qinit(ax-u*t[n+1])\n",
    "    q[n+1][-1] = qinit(bx-u*t[n+1])"
   ]
  },
  {
   "cell_type": "code",
   "execution_count": 15,
   "metadata": {},
   "outputs": [
    {
     "data": {
      "image/png": "[encoded data removed]",
      "text/plain": [
       "<Figure size 432x288 with 1 Axes>"
      ]
     },
     "metadata": {
      "needs_background": "light"
     },
     "output_type": "display_data"
    }
   ],
   "source": [
    "s = M\n",
    "plt.plot(x, q[s], label = 'Computed')\n",
    "plt.plot(x, qinit(x-u*t[s]), '--', label = 'Exact')\n",
    "plt.xlabel('x')\n",
    "plt.ylabel('q(x)')\n",
    "plt.legend()\n",
    "plt.grid()"
   ]
  },
  {
   "cell_type": "markdown",
   "metadata": {},
   "source": [
    "# Error"
   ]
  },
  {
   "cell_type": "code",
   "execution_count": 16,
   "metadata": {},
   "outputs": [
    {
     "data": {
      "text/plain": [
       "0.0009914255930125737"
      ]
     },
     "execution_count": 16,
     "metadata": {},
     "output_type": "execute_result"
    }
   ],
   "source": [
    "error = np.abs(q[s]-qinit(x-u*t[s]))\n",
    "error_max=np.max(error)\n",
    "error_max"
   ]
  },
  {
   "cell_type": "code",
   "execution_count": null,
   "metadata": {},
   "outputs": [],
   "source": []
  }
 ],
 "metadata": {
  "kernelspec": {
   "display_name": "Python 3",
   "language": "python",
   "name": "python3"
  },
  "language_info": {
   "codemirror_mode": {
    "name": "ipython",
    "version": 3
   },
   "file_extension": ".py",
   "mimetype": "text/x-python",
   "name": "python",
   "nbconvert_exporter": "python",
   "pygments_lexer": "ipython3",
   "version": "3.7.6"
  }
 },
 "nbformat": 4,
 "nbformat_minor": 4
}
